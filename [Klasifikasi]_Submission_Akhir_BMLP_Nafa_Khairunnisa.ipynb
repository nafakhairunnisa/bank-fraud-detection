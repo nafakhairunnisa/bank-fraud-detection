{
  "nbformat": 4,
  "nbformat_minor": 0,
  "metadata": {
    "colab": {
      "provenance": []
    },
    "kernelspec": {
      "name": "python3",
      "display_name": "Python 3"
    },
    "language_info": {
      "name": "python"
    }
  },
  "cells": [
    {
      "cell_type": "markdown",
      "source": [
        "# **1. Import Library**"
      ],
      "metadata": {
        "id": "fKADPWcFKlj3"
      }
    },
    {
      "cell_type": "code",
      "source": [
        "import numpy as np\n",
        "import pandas as pd\n",
        "import seaborn as sns\n",
        "from collections import Counter\n",
        "import matplotlib.pyplot as plt\n",
        "from imblearn.over_sampling import SMOTE\n",
        "from sklearn.feature_selection import RFE\n",
        "from sklearn.preprocessing import MinMaxScaler\n",
        "from sklearn.tree import DecisionTreeClassifier\n",
        "from sklearn.metrics import classification_report\n",
        "from sklearn.ensemble import RandomForestClassifier\n",
        "from sklearn.linear_model import LogisticRegression\n",
        "from sklearn.model_selection import train_test_split\n",
        "from sklearn.metrics import confusion_matrix, accuracy_score"
      ],
      "metadata": {
        "id": "BlmvjLY9M4Yj"
      },
      "execution_count": 43,
      "outputs": []
    },
    {
      "cell_type": "markdown",
      "source": [
        "# **2. Memuat Dataset dari Hasil Clustering**"
      ],
      "metadata": {
        "id": "f3YIEnAFKrKL"
      }
    },
    {
      "cell_type": "code",
      "source": [
        "df = pd.read_csv('/content/clustering_result.csv')"
      ],
      "metadata": {
        "id": "GHCGNTyrM5fS"
      },
      "execution_count": 2,
      "outputs": []
    },
    {
      "cell_type": "code",
      "source": [
        "df.info()"
      ],
      "metadata": {
        "colab": {
          "base_uri": "https://localhost:8080/"
        },
        "id": "YZbHozdEXmm1",
        "outputId": "c224e264-8e73-44d6-fac7-291b3da9406b"
      },
      "execution_count": 3,
      "outputs": [
        {
          "output_type": "stream",
          "name": "stdout",
          "text": [
            "<class 'pandas.core.frame.DataFrame'>\n",
            "RangeIndex: 2512 entries, 0 to 2511\n",
            "Data columns (total 22 columns):\n",
            " #   Column                   Non-Null Count  Dtype  \n",
            "---  ------                   --------------  -----  \n",
            " 0   TransactionID            2512 non-null   object \n",
            " 1   AccountID                2512 non-null   object \n",
            " 2   TransactionAmount        2512 non-null   float64\n",
            " 3   TransactionDate          2512 non-null   object \n",
            " 4   TransactionType          2512 non-null   object \n",
            " 5   Location                 2512 non-null   object \n",
            " 6   DeviceID                 2512 non-null   object \n",
            " 7   IP Address               2512 non-null   object \n",
            " 8   MerchantID               2512 non-null   object \n",
            " 9   CustomerAge              2512 non-null   int64  \n",
            " 10  TransactionDuration      2512 non-null   int64  \n",
            " 11  LoginAttempts            2512 non-null   int64  \n",
            " 12  AccountBalance           2512 non-null   float64\n",
            " 13  PreviousTransactionDate  2512 non-null   object \n",
            " 14  AgeGroup                 2456 non-null   object \n",
            " 15  FrekuensiTransaksi       2512 non-null   int64  \n",
            " 16  JamTransaksi             2512 non-null   int64  \n",
            " 17  PenggunaanDevice         2512 non-null   int64  \n",
            " 18  IPAddressAccount         2512 non-null   int64  \n",
            " 19  Cluster_KMeans           2512 non-null   int64  \n",
            " 20  Channel                  2512 non-null   object \n",
            " 21  CustomerOccupation       2512 non-null   object \n",
            "dtypes: float64(2), int64(8), object(12)\n",
            "memory usage: 431.9+ KB\n"
          ]
        }
      ]
    },
    {
      "cell_type": "code",
      "source": [
        "df.isna().sum()"
      ],
      "metadata": {
        "colab": {
          "base_uri": "https://localhost:8080/",
          "height": 774
        },
        "id": "nphfOf997EMY",
        "outputId": "212e14a2-1161-4728-c11b-ce2f43cfcb42"
      },
      "execution_count": 4,
      "outputs": [
        {
          "output_type": "execute_result",
          "data": {
            "text/plain": [
              "TransactionID               0\n",
              "AccountID                   0\n",
              "TransactionAmount           0\n",
              "TransactionDate             0\n",
              "TransactionType             0\n",
              "Location                    0\n",
              "DeviceID                    0\n",
              "IP Address                  0\n",
              "MerchantID                  0\n",
              "CustomerAge                 0\n",
              "TransactionDuration         0\n",
              "LoginAttempts               0\n",
              "AccountBalance              0\n",
              "PreviousTransactionDate     0\n",
              "AgeGroup                   56\n",
              "FrekuensiTransaksi          0\n",
              "JamTransaksi                0\n",
              "PenggunaanDevice            0\n",
              "IPAddressAccount            0\n",
              "Cluster_KMeans              0\n",
              "Channel                     0\n",
              "CustomerOccupation          0\n",
              "dtype: int64"
            ],
            "text/html": [
              "<div>\n",
              "<style scoped>\n",
              "    .dataframe tbody tr th:only-of-type {\n",
              "        vertical-align: middle;\n",
              "    }\n",
              "\n",
              "    .dataframe tbody tr th {\n",
              "        vertical-align: top;\n",
              "    }\n",
              "\n",
              "    .dataframe thead th {\n",
              "        text-align: right;\n",
              "    }\n",
              "</style>\n",
              "<table border=\"1\" class=\"dataframe\">\n",
              "  <thead>\n",
              "    <tr style=\"text-align: right;\">\n",
              "      <th></th>\n",
              "      <th>0</th>\n",
              "    </tr>\n",
              "  </thead>\n",
              "  <tbody>\n",
              "    <tr>\n",
              "      <th>TransactionID</th>\n",
              "      <td>0</td>\n",
              "    </tr>\n",
              "    <tr>\n",
              "      <th>AccountID</th>\n",
              "      <td>0</td>\n",
              "    </tr>\n",
              "    <tr>\n",
              "      <th>TransactionAmount</th>\n",
              "      <td>0</td>\n",
              "    </tr>\n",
              "    <tr>\n",
              "      <th>TransactionDate</th>\n",
              "      <td>0</td>\n",
              "    </tr>\n",
              "    <tr>\n",
              "      <th>TransactionType</th>\n",
              "      <td>0</td>\n",
              "    </tr>\n",
              "    <tr>\n",
              "      <th>Location</th>\n",
              "      <td>0</td>\n",
              "    </tr>\n",
              "    <tr>\n",
              "      <th>DeviceID</th>\n",
              "      <td>0</td>\n",
              "    </tr>\n",
              "    <tr>\n",
              "      <th>IP Address</th>\n",
              "      <td>0</td>\n",
              "    </tr>\n",
              "    <tr>\n",
              "      <th>MerchantID</th>\n",
              "      <td>0</td>\n",
              "    </tr>\n",
              "    <tr>\n",
              "      <th>CustomerAge</th>\n",
              "      <td>0</td>\n",
              "    </tr>\n",
              "    <tr>\n",
              "      <th>TransactionDuration</th>\n",
              "      <td>0</td>\n",
              "    </tr>\n",
              "    <tr>\n",
              "      <th>LoginAttempts</th>\n",
              "      <td>0</td>\n",
              "    </tr>\n",
              "    <tr>\n",
              "      <th>AccountBalance</th>\n",
              "      <td>0</td>\n",
              "    </tr>\n",
              "    <tr>\n",
              "      <th>PreviousTransactionDate</th>\n",
              "      <td>0</td>\n",
              "    </tr>\n",
              "    <tr>\n",
              "      <th>AgeGroup</th>\n",
              "      <td>56</td>\n",
              "    </tr>\n",
              "    <tr>\n",
              "      <th>FrekuensiTransaksi</th>\n",
              "      <td>0</td>\n",
              "    </tr>\n",
              "    <tr>\n",
              "      <th>JamTransaksi</th>\n",
              "      <td>0</td>\n",
              "    </tr>\n",
              "    <tr>\n",
              "      <th>PenggunaanDevice</th>\n",
              "      <td>0</td>\n",
              "    </tr>\n",
              "    <tr>\n",
              "      <th>IPAddressAccount</th>\n",
              "      <td>0</td>\n",
              "    </tr>\n",
              "    <tr>\n",
              "      <th>Cluster_KMeans</th>\n",
              "      <td>0</td>\n",
              "    </tr>\n",
              "    <tr>\n",
              "      <th>Channel</th>\n",
              "      <td>0</td>\n",
              "    </tr>\n",
              "    <tr>\n",
              "      <th>CustomerOccupation</th>\n",
              "      <td>0</td>\n",
              "    </tr>\n",
              "  </tbody>\n",
              "</table>\n",
              "</div><br><label><b>dtype:</b> int64</label>"
            ]
          },
          "metadata": {},
          "execution_count": 4
        }
      ]
    },
    {
      "cell_type": "code",
      "source": [
        "df.drop(columns=['AgeGroup'], inplace=True)"
      ],
      "metadata": {
        "id": "hdfCMD-vXxnD"
      },
      "execution_count": 5,
      "outputs": []
    },
    {
      "cell_type": "markdown",
      "source": [
        "Kolom AgeGroup dihapus karena sudah direpresentasikan oleh CustomerAge."
      ],
      "metadata": {
        "id": "_gGKmJYOX62k"
      }
    },
    {
      "cell_type": "code",
      "source": [
        "df_original = df.copy()"
      ],
      "metadata": {
        "id": "EOR7SGeZdr_4"
      },
      "execution_count": 6,
      "outputs": []
    },
    {
      "cell_type": "code",
      "source": [
        "selected_features = [\n",
        "    \"TransactionAmount\",\n",
        "    \"LoginAttempts\",\n",
        "    \"FrekuensiTransaksi\",\n",
        "    \"PenggunaanDevice\",\n",
        "    \"IPAddressAccount\",\n",
        "    \"TransactionType\",\n",
        "    \"Channel\"\n",
        "]"
      ],
      "metadata": {
        "id": "pp4MeSP-VVMa"
      },
      "execution_count": 7,
      "outputs": []
    },
    {
      "cell_type": "code",
      "source": [
        "df = df[selected_features + [\"Cluster_KMeans\"]]"
      ],
      "metadata": {
        "id": "ARWOIgWnxJ8z"
      },
      "execution_count": 8,
      "outputs": []
    },
    {
      "cell_type": "markdown",
      "source": [
        "Kolom yang tidak termasuk ke dalam variabel selected_features tidak dimasukkan untuk klasifikasi karena tidak relevan."
      ],
      "metadata": {
        "id": "1pmGQwZCdarj"
      }
    },
    {
      "cell_type": "code",
      "source": [
        "df.info()"
      ],
      "metadata": {
        "colab": {
          "base_uri": "https://localhost:8080/"
        },
        "id": "sAJajy09K5Rh",
        "outputId": "d9e4af40-a6f2-4b65-c037-7107534251bb"
      },
      "execution_count": 9,
      "outputs": [
        {
          "output_type": "stream",
          "name": "stdout",
          "text": [
            "<class 'pandas.core.frame.DataFrame'>\n",
            "RangeIndex: 2512 entries, 0 to 2511\n",
            "Data columns (total 8 columns):\n",
            " #   Column              Non-Null Count  Dtype  \n",
            "---  ------              --------------  -----  \n",
            " 0   TransactionAmount   2512 non-null   float64\n",
            " 1   LoginAttempts       2512 non-null   int64  \n",
            " 2   FrekuensiTransaksi  2512 non-null   int64  \n",
            " 3   PenggunaanDevice    2512 non-null   int64  \n",
            " 4   IPAddressAccount    2512 non-null   int64  \n",
            " 5   TransactionType     2512 non-null   object \n",
            " 6   Channel             2512 non-null   object \n",
            " 7   Cluster_KMeans      2512 non-null   int64  \n",
            "dtypes: float64(1), int64(5), object(2)\n",
            "memory usage: 157.1+ KB\n"
          ]
        }
      ]
    },
    {
      "cell_type": "code",
      "source": [
        "# Label Encoding untuk TransactionType\n",
        "df['TransactionType'] = df['TransactionType'].map({'Debit': 0, 'Credit': 1})"
      ],
      "metadata": {
        "id": "vhZWf0ECc-aE"
      },
      "execution_count": 10,
      "outputs": []
    },
    {
      "cell_type": "code",
      "source": [
        "# One-Hot Encoding untuk Channel\n",
        "df = pd.get_dummies(df, columns=['Channel'], drop_first=False)"
      ],
      "metadata": {
        "id": "DzRGB_WNeFJI"
      },
      "execution_count": 11,
      "outputs": []
    },
    {
      "cell_type": "code",
      "source": [
        "scaler = MinMaxScaler()\n",
        "df[['TransactionAmount']] = scaler.fit_transform(df[['TransactionAmount']])"
      ],
      "metadata": {
        "id": "-kIMnQNT9Q2J"
      },
      "execution_count": 12,
      "outputs": []
    },
    {
      "cell_type": "code",
      "source": [
        "df = df.astype({col: int for col in df.select_dtypes(include=['bool']).columns})"
      ],
      "metadata": {
        "id": "nfq407HJLvjA"
      },
      "execution_count": 13,
      "outputs": []
    },
    {
      "cell_type": "code",
      "source": [
        "# Mengubah nilai di dalam Cluster_KMeans berdasarkan hasil analisis Clustering\n",
        "df['Cluster_KMeans'] = df['Cluster_KMeans'].map({\n",
        "    0: 'Not Fraud',\n",
        "    1: 'Not Fraud',\n",
        "    2: 'Not Fraud',\n",
        "    3: 'Not Fraud',\n",
        "    4: 'Potential Fraud',\n",
        "    5: 'Potential Fraud'\n",
        "})"
      ],
      "metadata": {
        "id": "K7C-jvyaNAUn"
      },
      "execution_count": 14,
      "outputs": []
    },
    {
      "cell_type": "code",
      "source": [
        "df['Cluster_KMeans'].value_counts()"
      ],
      "metadata": {
        "colab": {
          "base_uri": "https://localhost:8080/",
          "height": 178
        },
        "id": "AgJ1Vld1QWqF",
        "outputId": "8b027742-2868-4e89-9320-bf1d721bb45b"
      },
      "execution_count": 15,
      "outputs": [
        {
          "output_type": "execute_result",
          "data": {
            "text/plain": [
              "Cluster_KMeans\n",
              "Not Fraud          2188\n",
              "Potential Fraud     324\n",
              "Name: count, dtype: int64"
            ],
            "text/html": [
              "<div>\n",
              "<style scoped>\n",
              "    .dataframe tbody tr th:only-of-type {\n",
              "        vertical-align: middle;\n",
              "    }\n",
              "\n",
              "    .dataframe tbody tr th {\n",
              "        vertical-align: top;\n",
              "    }\n",
              "\n",
              "    .dataframe thead th {\n",
              "        text-align: right;\n",
              "    }\n",
              "</style>\n",
              "<table border=\"1\" class=\"dataframe\">\n",
              "  <thead>\n",
              "    <tr style=\"text-align: right;\">\n",
              "      <th></th>\n",
              "      <th>count</th>\n",
              "    </tr>\n",
              "    <tr>\n",
              "      <th>Cluster_KMeans</th>\n",
              "      <th></th>\n",
              "    </tr>\n",
              "  </thead>\n",
              "  <tbody>\n",
              "    <tr>\n",
              "      <th>Not Fraud</th>\n",
              "      <td>2188</td>\n",
              "    </tr>\n",
              "    <tr>\n",
              "      <th>Potential Fraud</th>\n",
              "      <td>324</td>\n",
              "    </tr>\n",
              "  </tbody>\n",
              "</table>\n",
              "</div><br><label><b>dtype:</b> int64</label>"
            ]
          },
          "metadata": {},
          "execution_count": 15
        }
      ]
    },
    {
      "cell_type": "code",
      "source": [
        "# Label Encoding untuk Cluster_KMeans\n",
        "df['Cluster_KMeans'] = df['Cluster_KMeans'].map({'Not Fraud': 0, 'Potential Fraud': 1})"
      ],
      "metadata": {
        "id": "r7ay_2-lQ_LG"
      },
      "execution_count": 16,
      "outputs": []
    },
    {
      "cell_type": "code",
      "source": [
        "df.info()"
      ],
      "metadata": {
        "colab": {
          "base_uri": "https://localhost:8080/"
        },
        "id": "87NwhDjb9WJm",
        "outputId": "a1225096-d4ea-4088-ab12-362a0e75c29a"
      },
      "execution_count": 17,
      "outputs": [
        {
          "output_type": "stream",
          "name": "stdout",
          "text": [
            "<class 'pandas.core.frame.DataFrame'>\n",
            "RangeIndex: 2512 entries, 0 to 2511\n",
            "Data columns (total 10 columns):\n",
            " #   Column              Non-Null Count  Dtype  \n",
            "---  ------              --------------  -----  \n",
            " 0   TransactionAmount   2512 non-null   float64\n",
            " 1   LoginAttempts       2512 non-null   int64  \n",
            " 2   FrekuensiTransaksi  2512 non-null   int64  \n",
            " 3   PenggunaanDevice    2512 non-null   int64  \n",
            " 4   IPAddressAccount    2512 non-null   int64  \n",
            " 5   TransactionType     2512 non-null   int64  \n",
            " 6   Cluster_KMeans      2512 non-null   int64  \n",
            " 7   Channel_ATM         2512 non-null   int64  \n",
            " 8   Channel_Branch      2512 non-null   int64  \n",
            " 9   Channel_Online      2512 non-null   int64  \n",
            "dtypes: float64(1), int64(9)\n",
            "memory usage: 196.4 KB\n"
          ]
        }
      ]
    },
    {
      "cell_type": "markdown",
      "source": [
        "# **3. Data Splitting**"
      ],
      "metadata": {
        "id": "KkPem5eWL2UP"
      }
    },
    {
      "cell_type": "code",
      "source": [
        "# Memisahkan fitur dan target\n",
        "X = df.drop(columns=['Cluster_KMeans'])\n",
        "y = df['Cluster_KMeans']"
      ],
      "metadata": {
        "id": "OubAW-7ONKVj"
      },
      "execution_count": 27,
      "outputs": []
    },
    {
      "cell_type": "code",
      "source": [
        "X_train, X_test, y_train, y_test = train_test_split(X, y, test_size=0.2, random_state=42, stratify=y)"
      ],
      "metadata": {
        "id": "x8eqg_ysSUwU"
      },
      "execution_count": 28,
      "outputs": []
    },
    {
      "cell_type": "code",
      "source": [
        "feature_names = X_train.columns.tolist()"
      ],
      "metadata": {
        "id": "gXbgFgHs1hqO"
      },
      "execution_count": 29,
      "outputs": []
    },
    {
      "cell_type": "code",
      "source": [
        "# SMOTE untuk menyeimbangkan imbalanced dataset\n",
        "smote = SMOTE(random_state=42)\n",
        "X_train_resampled, y_train_resampled = smote.fit_resample(X_train, y_train)\n",
        "\n",
        "print(\"Distribusi kelas sebelum SMOTE:\", Counter(y_train))\n",
        "print(\"Distribusi kelas setelah SMOTE:\", Counter(y_train_resampled))"
      ],
      "metadata": {
        "colab": {
          "base_uri": "https://localhost:8080/"
        },
        "id": "D22_nn0mkKmN",
        "outputId": "40621fd4-29f8-45cd-fa1f-9707191ad21e"
      },
      "execution_count": 30,
      "outputs": [
        {
          "output_type": "stream",
          "name": "stdout",
          "text": [
            "Distribusi kelas sebelum SMOTE: Counter({0: 1750, 1: 259})\n",
            "Distribusi kelas setelah SMOTE: Counter({0: 1750, 1: 1750})\n"
          ]
        }
      ]
    },
    {
      "cell_type": "markdown",
      "source": [
        "# **4. Membangun Model Klasifikasi**\n"
      ],
      "metadata": {
        "id": "IVPbB03CMhTT"
      }
    },
    {
      "cell_type": "markdown",
      "source": [
        "## **a. Membangun Model Klasifikasi**"
      ],
      "metadata": {
        "id": "Ned1pL9zMmBK"
      }
    },
    {
      "cell_type": "markdown",
      "source": [
        "Algoritma yang akan digunakan untuk model klasifikasi yaitu:\n",
        "1. Decision Tree.\n",
        "\n",
        "Model ini diterapkan karena cocok untuk klasifikasi biner, mudah diinterpretasikan, cepat dan efisien.\n",
        "\n",
        "2. Logistic Regression.\n",
        "\n",
        "Model ini digunakan karena sederhana dan efisien dan dapat menghindari overfitting.\n",
        "\n",
        "3. Random Forest.\n",
        "\n",
        "Model ini digunakan karena dapat menentukan fitur paling penting (feature importance) dan lebih stabil."
      ],
      "metadata": {
        "id": "-fI1IIb7WvuY"
      }
    },
    {
      "cell_type": "code",
      "source": [
        "# Mengidentifikasi fitur yang paling relevan dengan RFE\n",
        "X_train_resampled_df = pd.DataFrame(X_train_resampled, columns=feature_names)\n",
        "\n",
        "rf_model = RandomForestClassifier(n_estimators=100, random_state=42)\n",
        "\n",
        "rfe = RFE(estimator=rf_model, n_features_to_select=5)\n",
        "rfe.fit(X_train_resampled_df, y_train_resampled)\n",
        "\n",
        "selected_features = X_train_resampled_df.columns[rfe.support_]\n",
        "print(\"Fitur yang dipilih oleh RFE:\", selected_features)"
      ],
      "metadata": {
        "colab": {
          "base_uri": "https://localhost:8080/"
        },
        "id": "3JRUEYCQ1GB-",
        "outputId": "c8d627d8-8241-42d9-e52f-2ccdff2fef52"
      },
      "execution_count": 40,
      "outputs": [
        {
          "output_type": "stream",
          "name": "stdout",
          "text": [
            "Fitur yang dipilih oleh RFE: Index(['TransactionAmount', 'TransactionType', 'Channel_ATM', 'Channel_Branch',\n",
            "       'Channel_Online'],\n",
            "      dtype='object')\n"
          ]
        }
      ]
    },
    {
      "cell_type": "code",
      "source": [
        "# Decision Tree\n",
        "dt_model = DecisionTreeClassifier(max_depth=10, min_samples_split=5, min_samples_leaf=2, random_state=42)\n",
        "dt_model.fit(X_train_resampled, y_train_resampled)\n",
        "y_pred_dt = dt_model.predict(X_test)\n",
        "\n",
        "# Logistic Regression\n",
        "logreg_model = LogisticRegression(max_iter=1000, random_state=42)\n",
        "logreg_model.fit(X_train_resampled, y_train_resampled)\n",
        "y_pred_logreg = logreg_model.predict(X_test)\n",
        "\n",
        "# Random Forest\n",
        "X_train_selected = X_train_resampled_df[selected_features]\n",
        "X_test_selected = pd.DataFrame(X_test, columns=feature_names)[selected_features]\n",
        "\n",
        "# Latih ulang model dengan fitur terbaik\n",
        "rf_model.fit(X_train_selected, y_train_resampled)\n",
        "y_pred_rf = rf_model.predict(X_test_selected)"
      ],
      "metadata": {
        "id": "9RV5zGszsWcG"
      },
      "execution_count": 32,
      "outputs": []
    },
    {
      "cell_type": "markdown",
      "source": [
        "## **b. Evaluasi Model Klasifikasi**"
      ],
      "metadata": {
        "id": "ergzChZFEL-O"
      }
    },
    {
      "cell_type": "markdown",
      "source": [
        "### **Decision Tree**"
      ],
      "metadata": {
        "id": "nlFiIAKFXGRt"
      }
    },
    {
      "cell_type": "code",
      "source": [
        "print(\"=== Decision Tree Classifier ===\")\n",
        "print(f\"Accuracy: {accuracy_score(y_test, y_pred_dt):.4f}\")\n",
        "print(\"Classification Report:\\n\", classification_report(y_test, y_pred_dt))"
      ],
      "metadata": {
        "id": "tMq4QAssNLip",
        "colab": {
          "base_uri": "https://localhost:8080/"
        },
        "outputId": "52829533-efe8-4182-fdf4-175b6dd208ea"
      },
      "execution_count": 33,
      "outputs": [
        {
          "output_type": "stream",
          "name": "stdout",
          "text": [
            "=== Decision Tree Classifier ===\n",
            "Accuracy: 1.0000\n",
            "Classification Report:\n",
            "               precision    recall  f1-score   support\n",
            "\n",
            "           0       1.00      1.00      1.00       438\n",
            "           1       1.00      1.00      1.00        65\n",
            "\n",
            "    accuracy                           1.00       503\n",
            "   macro avg       1.00      1.00      1.00       503\n",
            "weighted avg       1.00      1.00      1.00       503\n",
            "\n"
          ]
        }
      ]
    },
    {
      "cell_type": "code",
      "source": [
        "cm_dt = confusion_matrix(y_test, y_pred_dt)\n",
        "plt.figure(figsize=(6,4))\n",
        "sns.heatmap(cm_dt, annot=True, fmt='d', cmap='Blues', linewidths=0.5)\n",
        "plt.xlabel(\"Predicted Label\")\n",
        "plt.ylabel(\"True Label\")\n",
        "plt.title(\"Confusion Matrix - Decision Tree\")\n",
        "plt.show()"
      ],
      "metadata": {
        "colab": {
          "base_uri": "https://localhost:8080/",
          "height": 410
        },
        "id": "MGif-kr5fCfD",
        "outputId": "f6e1b2ba-46fa-4312-c7b6-e63c4cb58a5a"
      },
      "execution_count": 34,
      "outputs": [
        {
          "output_type": "display_data",
          "data": {
            "text/plain": [
              "<Figure size 600x400 with 2 Axes>"
            ],
            "image/png": "[encoded data removed]"
          },
          "metadata": {}
        }
      ]
    },
    {
      "cell_type": "markdown",
      "source": [
        "### **Logistic Regression**"
      ],
      "metadata": {
        "id": "a_a2fsyzXL_Y"
      }
    },
    {
      "cell_type": "code",
      "source": [
        "print(\"=== Logistic Regression ===\")\n",
        "print(f\"Accuracy: {accuracy_score(y_test, y_pred_logreg):.4f}\")\n",
        "print(\"Classification Report:\\n\", classification_report(y_test, y_pred_logreg))"
      ],
      "metadata": {
        "colab": {
          "base_uri": "https://localhost:8080/"
        },
        "id": "SVS0CPBqXUhj",
        "outputId": "33799af7-f060-474e-a25e-976f30bd4643"
      },
      "execution_count": 35,
      "outputs": [
        {
          "output_type": "stream",
          "name": "stdout",
          "text": [
            "=== Logistic Regression ===\n",
            "Accuracy: 1.0000\n",
            "Classification Report:\n",
            "               precision    recall  f1-score   support\n",
            "\n",
            "           0       1.00      1.00      1.00       438\n",
            "           1       1.00      1.00      1.00        65\n",
            "\n",
            "    accuracy                           1.00       503\n",
            "   macro avg       1.00      1.00      1.00       503\n",
            "weighted avg       1.00      1.00      1.00       503\n",
            "\n"
          ]
        }
      ]
    },
    {
      "cell_type": "code",
      "source": [
        "cm_logreg = confusion_matrix(y_test, y_pred_logreg)\n",
        "plt.figure(figsize=(6,4))\n",
        "sns.heatmap(cm_logreg, annot=True, fmt='d', cmap='Reds', linewidths=0.5)\n",
        "plt.xlabel(\"Predicted Label\")\n",
        "plt.ylabel(\"True Label\")\n",
        "plt.title(\"Confusion Matrix - Logistic Regression\")\n",
        "plt.show()"
      ],
      "metadata": {
        "colab": {
          "base_uri": "https://localhost:8080/",
          "height": 410
        },
        "id": "K6PUGOYwnQdm",
        "outputId": "d86345bd-c700-4f1b-ec72-12e98de5e87f"
      },
      "execution_count": 36,
      "outputs": [
        {
          "output_type": "display_data",
          "data": {
            "text/plain": [
              "<Figure size 600x400 with 2 Axes>"
            ],
            "image/png": "[encoded data removed]"
          },
          "metadata": {}
        }
      ]
    },
    {
      "cell_type": "markdown",
      "source": [
        "### **Random Forest**"
      ],
      "metadata": {
        "id": "aOgIezTdzWrZ"
      }
    },
    {
      "cell_type": "code",
      "source": [
        "print(\"=== Random Forest Classifier (Setelah RFE) ===\")\n",
        "print(f\"Accuracy: {accuracy_score(y_test, y_pred_rf):.4f}\")\n",
        "print(\"Classification Report:\\n\", classification_report(y_test, y_pred_rf))"
      ],
      "metadata": {
        "colab": {
          "base_uri": "https://localhost:8080/"
        },
        "id": "mzBHWDPwzZjd",
        "outputId": "bb0811da-0487-477a-e5d2-1210db0772ee"
      },
      "execution_count": 37,
      "outputs": [
        {
          "output_type": "stream",
          "name": "stdout",
          "text": [
            "=== Random Forest Classifier (Setelah RFE) ===\n",
            "Accuracy: 1.0000\n",
            "Classification Report:\n",
            "               precision    recall  f1-score   support\n",
            "\n",
            "           0       1.00      1.00      1.00       438\n",
            "           1       1.00      1.00      1.00        65\n",
            "\n",
            "    accuracy                           1.00       503\n",
            "   macro avg       1.00      1.00      1.00       503\n",
            "weighted avg       1.00      1.00      1.00       503\n",
            "\n"
          ]
        }
      ]
    },
    {
      "cell_type": "code",
      "source": [
        "cm_rf = confusion_matrix(y_test, y_pred_rf)\n",
        "plt.figure(figsize=(6,4))\n",
        "sns.heatmap(cm_rf, annot=True, fmt='d', cmap='magma', linewidths=0.5)\n",
        "plt.xlabel(\"Predicted Label\")\n",
        "plt.ylabel(\"True Label\")\n",
        "plt.title(\"Confusion Matrix - Random Forest (Setelah RFE)\")\n",
        "plt.show()"
      ],
      "metadata": {
        "colab": {
          "base_uri": "https://localhost:8080/",
          "height": 410
        },
        "id": "20GG__nLzbje",
        "outputId": "c71a20a7-5cb9-48b8-e1ea-d00c1d318602"
      },
      "execution_count": 38,
      "outputs": [
        {
          "output_type": "display_data",
          "data": {
            "text/plain": [
              "<Figure size 600x400 with 2 Axes>"
            ],
            "image/png": "[encoded data removed]"
          },
          "metadata": {}
        }
      ]
    },
    {
      "cell_type": "markdown",
      "source": [
        "Berikut perbandingan hasil 3 algoritma:\n",
        "Semua model menghasilkan nilai akurasi dan F1-score 100% yang  artinya terjadi overfitting."
      ],
      "metadata": {
        "id": "H4_9OwrsXZlz"
      }
    },
    {
      "cell_type": "markdown",
      "source": [
        "## **e. Analisis Hasil Evaluasi Model Klasifikasi**"
      ],
      "metadata": {
        "id": "ZRsOdm4uEgAW"
      }
    },
    {
      "cell_type": "markdown",
      "source": [
        "**Analisis**\n",
        "\n",
        "1. Ketiga model menghasilkan nilai akurasi dan F1-score 100% yang artinya terjadi overfitting. Yaitu keadaan dimana model terlalu baik dalam pelatihan tetapi buruk dalam pengujian. Hal ini kemungkinan terjadi pada saat pemilihan fitur yang tidak tepat dan model yang terlalu kompleks sehingga menyebabkan overfitting.\n",
        "\n",
        "2. Tindakan lebih lanjut bisa memilih kembali fitur mana saja yang paling relevan untuk klasifikasi dan mencoba memilih model lain sepeti Naive Bayes yang menggunakan prinsip probabilitas atau Support Vector Machine (SVM)."
      ],
      "metadata": {
        "id": "Hm3BhSi6N4_l"
      }
    }
  ]
}